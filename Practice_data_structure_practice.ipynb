{
  "nbformat": 4,
  "nbformat_minor": 0,
  "metadata": {
    "colab": {
      "name": "Practice_data_structure_practice.ipynb",
      "provenance": [],
      "collapsed_sections": [],
      "toc_visible": true,
      "include_colab_link": true
    },
    "kernelspec": {
      "name": "python3",
      "display_name": "Python 3"
    }
  },
  "cells": [
    {
      "cell_type": "markdown",
      "metadata": {
        "id": "view-in-github",
        "colab_type": "text"
      },
      "source": [
        "<a href=\"https://colab.research.google.com/github/kritikachugh/Python_basics/blob/master/Practice_data_structure_practice.ipynb\" target=\"_parent\"><img src=\"https://colab.research.google.com/assets/colab-badge.svg\" alt=\"Open In Colab\"/></a>"
      ]
    },
    {
      "cell_type": "markdown",
      "metadata": {
        "id": "edEiQd6EtW9A",
        "colab_type": "text"
      },
      "source": [
        "## Question 1"
      ]
    },
    {
      "cell_type": "markdown",
      "metadata": {
        "id": "UTDF4LUJthZt",
        "colab_type": "text"
      },
      "source": [
        "You are given a list of integers and you have to write a function each for calculating the square of integers and a cube of integers, respectively. After then, you have to write a function for adding the square and cube of the integers and you have to return the results in a new list.\n",
        "Hint :    \n",
        "1.  Input : One list of integers Ex: [x, y, z]\n",
        "2.  Process: x^2 + x^3\n",
        "3.  Output: One list of integers        "
      ]
    },
    {
      "cell_type": "code",
      "metadata": {
        "id": "p5lU9UDttWNm",
        "colab_type": "code",
        "colab": {
          "base_uri": "https://localhost:8080/",
          "height": 34
        },
        "outputId": "3b8c6d0e-ee3f-419a-eb81-a47e8b70ad5e"
      },
      "source": [
        "# First way is to declare a list of integers before writing the function\n",
        "numbers = [2, 4, 3, 0, 1]\n",
        "\n",
        "def square(number):\n",
        "  return number**2 \n",
        "\n",
        "def cube(number):\n",
        "  return number**3\n",
        "\n",
        "def square_add_cubes(numbers):\n",
        "  new_numbers = []\n",
        "  for number in numbers:\n",
        "    new_numbers.append(square(number) + cube(number))\n",
        "  return new_numbers\n",
        "    \n",
        "\n",
        "square_add_cubes(numbers)\n"
      ],
      "execution_count": null,
      "outputs": [
        {
          "output_type": "execute_result",
          "data": {
            "text/plain": [
              "[12, 80, 36, 0, 2]"
            ]
          },
          "metadata": {
            "tags": []
          },
          "execution_count": 1
        }
      ]
    },
    {
      "cell_type": "code",
      "metadata": {
        "id": "erVPIATm8dPY",
        "colab_type": "code",
        "colab": {
          "base_uri": "https://localhost:8080/",
          "height": 34
        },
        "outputId": "dcc7ca7f-29ef-4222-b638-11886ca3c310"
      },
      "source": [
        "# Second way is to give the list of numbers while calling a function\n",
        "def square(number):\n",
        "  return number**2 \n",
        "\n",
        "def cube(number):\n",
        "  return number**3\n",
        "\n",
        "def square_add_cubes(numbers):\n",
        "  new_numbers = []\n",
        "  for number in numbers:\n",
        "    new_numbers.append(square(number) + cube(number))\n",
        "  return new_numbers\n",
        "    \n",
        "\n",
        "square_add_cubes([2,3,4,0,1])"
      ],
      "execution_count": null,
      "outputs": [
        {
          "output_type": "execute_result",
          "data": {
            "text/plain": [
              "[12, 36, 80, 0, 2]"
            ]
          },
          "metadata": {
            "tags": []
          },
          "execution_count": 2
        }
      ]
    },
    {
      "cell_type": "markdown",
      "metadata": {
        "id": "6e1zLusjWjbl",
        "colab_type": "text"
      },
      "source": [
        "## Question 2"
      ]
    },
    {
      "cell_type": "markdown",
      "metadata": {
        "id": "kkNNiw9aW1Q4",
        "colab_type": "text"
      },
      "source": [
        "You are given a list of integers and you have to write a function for calculating the square of even integers and a cube of odd integers. After then, you have to return the results in a new list.\n",
        "\n",
        "Hint :\n",
        "*   Input : One list of integers Ex: [x, y, z]\n",
        "*   Process: x^2 - even number, x^3 - odd number\n",
        "*   Output: One list of integers\n",
        "\n"
      ]
    },
    {
      "cell_type": "code",
      "metadata": {
        "id": "axoKDFOMoe3O",
        "colab_type": "code",
        "colab": {
          "base_uri": "https://localhost:8080/",
          "height": 34
        },
        "outputId": "320ed4d2-b47b-48c2-ac54-86d85d32b84e"
      },
      "source": [
        "numbers = [2, 4, 3, 0, 1]\n",
        "\n",
        "def square_or_cube(number):\n",
        "  if number % 2 == 0:\n",
        "    return number**2\n",
        "  else:\n",
        "    return number**3\n",
        "\n",
        "def squares_or_cubes(numbers):\n",
        "  new_numbers = []\n",
        "  for number in numbers:\n",
        "    new_numbers.append(square_or_cube(number))\n",
        "  return new_numbers\n",
        "\n",
        "squares_or_cubes(numbers)"
      ],
      "execution_count": null,
      "outputs": [
        {
          "output_type": "execute_result",
          "data": {
            "text/plain": [
              "[4, 16, 27, 0, 1]"
            ]
          },
          "metadata": {
            "tags": []
          },
          "execution_count": 3
        }
      ]
    },
    {
      "cell_type": "markdown",
      "metadata": {
        "id": "rHdm1eOwZ1EP",
        "colab_type": "text"
      },
      "source": [
        "## Question 3"
      ]
    },
    {
      "cell_type": "markdown",
      "metadata": {
        "id": "rxICgYkpZ5Wa",
        "colab_type": "text"
      },
      "source": [
        "You are given two lists of equal lengths containing integers. You have to write a function for calculating a^2 + b^2 + 2^a^b and return these values in a new list. \n",
        "\n",
        "Hint: ## To perform this task you have to use zip() function to combine two lists of equal length.\n",
        "*   Input : Two lists of integers\n",
        "*   Process : a^2 + b^2 + 2^a^b \n",
        "*   Output : One list of integers"
      ]
    },
    {
      "cell_type": "code",
      "metadata": {
        "id": "CdfmthdBYgbO",
        "colab_type": "code",
        "colab": {
          "base_uri": "https://localhost:8080/",
          "height": 34
        },
        "outputId": "c4ac3596-4d4f-4757-f270-a4a7f65ff211"
      },
      "source": [
        "## One way is to declare the lists before function \n",
        "a_values = [2, 4, 3, 0, 1]\n",
        "b_values = [12, 14, 13, 10, 11]\n",
        "\n",
        "def make_whole_square(a_value, b_value):\n",
        "  return a_value**2 + b_value**2 + 2*a_value*b_value\n",
        "\n",
        "def make_whole_squares(a_values, b_values):\n",
        "  whole_squares = []\n",
        "  for a_value, b_value in zip(a_values, b_values):\n",
        "    whole_square = make_whole_square(a_value, b_value)\n",
        "    whole_squares.append(whole_square)\n",
        "  return whole_squares\n",
        "\n",
        "make_whole_squares(a_values, b_values)"
      ],
      "execution_count": null,
      "outputs": [
        {
          "output_type": "execute_result",
          "data": {
            "text/plain": [
              "[196, 324, 256, 100, 144]"
            ]
          },
          "metadata": {
            "tags": []
          },
          "execution_count": 4
        }
      ]
    },
    {
      "cell_type": "code",
      "metadata": {
        "id": "ybe3PHlA8xQP",
        "colab_type": "code",
        "colab": {
          "base_uri": "https://localhost:8080/",
          "height": 34
        },
        "outputId": "fa02027b-c5ba-4ec9-966b-6c280751495c"
      },
      "source": [
        "## Another way is to input the lists while calling a function\n",
        "def make_whole_square(a, b):\n",
        "  return a**2 + b**2 + 2*a*b\n",
        "\n",
        "def make_whole_squares(a, b):\n",
        "  whole_squares = []\n",
        "  for a, b in zip(a, b):\n",
        "    whole_square = make_whole_square(a, b)\n",
        "    whole_squares.append(whole_square)\n",
        "  return whole_squares\n",
        "\n",
        "make_whole_squares([2, 4, 3, 0, 1], [12, 14, 13, 10, 11])"
      ],
      "execution_count": null,
      "outputs": [
        {
          "output_type": "execute_result",
          "data": {
            "text/plain": [
              "[196, 324, 256, 100, 144]"
            ]
          },
          "metadata": {
            "tags": []
          },
          "execution_count": 5
        }
      ]
    },
    {
      "cell_type": "markdown",
      "metadata": {
        "id": "HnqApZLycLXK",
        "colab_type": "text"
      },
      "source": [
        "## Question 4"
      ]
    },
    {
      "cell_type": "markdown",
      "metadata": {
        "id": "zQeA6cdflh_5",
        "colab_type": "text"
      },
      "source": [
        "You are given two lists of unequal lengths containing integers. You have to write a function for calculating a^2 + b^2 + 2^a^b and use range and index and assert() and return these values in a new list. Perform similar task using two lists of equal length.\n",
        "\n",
        "Hint:  # In unequal lists, parallel traversal over common indices is done \n",
        "         using for loop over range of minimum length      \n",
        "*   Input : Two lists of integers\n",
        "*   Process : a^2 + b^2 + 2^a^b \n",
        "*   Output : One list of integers"
      ]
    },
    {
      "cell_type": "code",
      "metadata": {
        "id": "p9OKC8eHdNM-",
        "colab_type": "code",
        "colab": {
          "base_uri": "https://localhost:8080/",
          "height": 316
        },
        "outputId": "d24910b4-f0b2-4939-d842-4d0fcefe2814"
      },
      "source": [
        "## Two lists of unequal length\n",
        "\n",
        "values_a = [2, 4, 3, 0, 1, 5, 7, 8]\n",
        "values_b = [12, 14, 13, 10, 11]\n",
        "\n",
        "def make_whole_square(value_a, value_b):\n",
        "  return value_a**2 + value_b**2 + 2*value_a*value_b\n",
        "  \n",
        "def make_whole_squares(values_a, values_b):\n",
        "  assert len(values_a) == len(values_b), 'Length of the lists must be equal'\n",
        "  whole_squares = []\n",
        "  for index in range(len(values_b)):\n",
        "    whole_square = make_whole_square(values_a[index], values_b[index])\n",
        "    whole_squares.append(whole_square)\n",
        "  return whole_squares\n",
        "\n",
        "make_whole_squares(values_a, values_b)"
      ],
      "execution_count": null,
      "outputs": [
        {
          "output_type": "error",
          "ename": "AssertionError",
          "evalue": "ignored",
          "traceback": [
            "\u001b[0;31m---------------------------------------------------------------------------\u001b[0m",
            "\u001b[0;31mAssertionError\u001b[0m                            Traceback (most recent call last)",
            "\u001b[0;32m<ipython-input-6-8a1dc1e61575>\u001b[0m in \u001b[0;36m<module>\u001b[0;34m()\u001b[0m\n\u001b[1;32m     15\u001b[0m   \u001b[0;32mreturn\u001b[0m \u001b[0mwhole_squares\u001b[0m\u001b[0;34m\u001b[0m\u001b[0;34m\u001b[0m\u001b[0m\n\u001b[1;32m     16\u001b[0m \u001b[0;34m\u001b[0m\u001b[0m\n\u001b[0;32m---> 17\u001b[0;31m \u001b[0mmake_whole_squares\u001b[0m\u001b[0;34m(\u001b[0m\u001b[0mvalues_a\u001b[0m\u001b[0;34m,\u001b[0m \u001b[0mvalues_b\u001b[0m\u001b[0;34m)\u001b[0m\u001b[0;34m\u001b[0m\u001b[0;34m\u001b[0m\u001b[0m\n\u001b[0m",
            "\u001b[0;32m<ipython-input-6-8a1dc1e61575>\u001b[0m in \u001b[0;36mmake_whole_squares\u001b[0;34m(values_a, values_b)\u001b[0m\n\u001b[1;32m      8\u001b[0m \u001b[0;34m\u001b[0m\u001b[0m\n\u001b[1;32m      9\u001b[0m \u001b[0;32mdef\u001b[0m \u001b[0mmake_whole_squares\u001b[0m\u001b[0;34m(\u001b[0m\u001b[0mvalues_a\u001b[0m\u001b[0;34m,\u001b[0m \u001b[0mvalues_b\u001b[0m\u001b[0;34m)\u001b[0m\u001b[0;34m:\u001b[0m\u001b[0;34m\u001b[0m\u001b[0;34m\u001b[0m\u001b[0m\n\u001b[0;32m---> 10\u001b[0;31m   \u001b[0;32massert\u001b[0m \u001b[0mlen\u001b[0m\u001b[0;34m(\u001b[0m\u001b[0mvalues_a\u001b[0m\u001b[0;34m)\u001b[0m \u001b[0;34m==\u001b[0m \u001b[0mlen\u001b[0m\u001b[0;34m(\u001b[0m\u001b[0mvalues_b\u001b[0m\u001b[0;34m)\u001b[0m\u001b[0;34m,\u001b[0m \u001b[0;34m'Length of the lists must be equal'\u001b[0m\u001b[0;34m\u001b[0m\u001b[0;34m\u001b[0m\u001b[0m\n\u001b[0m\u001b[1;32m     11\u001b[0m   \u001b[0mwhole_squares\u001b[0m \u001b[0;34m=\u001b[0m \u001b[0;34m[\u001b[0m\u001b[0;34m]\u001b[0m\u001b[0;34m\u001b[0m\u001b[0;34m\u001b[0m\u001b[0m\n\u001b[1;32m     12\u001b[0m   \u001b[0;32mfor\u001b[0m \u001b[0mindex\u001b[0m \u001b[0;32min\u001b[0m \u001b[0mrange\u001b[0m\u001b[0;34m(\u001b[0m\u001b[0mlen\u001b[0m\u001b[0;34m(\u001b[0m\u001b[0mvalues_b\u001b[0m\u001b[0;34m)\u001b[0m\u001b[0;34m)\u001b[0m\u001b[0;34m:\u001b[0m\u001b[0;34m\u001b[0m\u001b[0;34m\u001b[0m\u001b[0m\n",
            "\u001b[0;31mAssertionError\u001b[0m: Length of the lists must be equal"
          ]
        }
      ]
    },
    {
      "cell_type": "code",
      "metadata": {
        "id": "fgpHspSBppH8",
        "colab_type": "code",
        "colab": {}
      },
      "source": [
        "## Two lists of equal length\n",
        "values_a = [2, 4, 3, 0, 1]\n",
        "values_b = [12, 14, 13, 10, 11]\n",
        "\n",
        "def make_whole_square(value_a, value_b):\n",
        "  return value_a**2 + value_b**2 + 2*value_a*value_b\n",
        "  \n",
        "def make_whole_squares(values_a, values_b):\n",
        "  assert len(values_a) == len(values_b), 'Length of the lists must be equal'\n",
        "  whole_squares = []\n",
        "  for index in range(len(values_b)):\n",
        "    whole_square = make_whole_square(values_a[index], values_b[index])\n",
        "    whole_squares.append(whole_square)\n",
        "  return whole_squares\n",
        "\n",
        "make_whole_squares(values_a, values_b)"
      ],
      "execution_count": null,
      "outputs": []
    },
    {
      "cell_type": "markdown",
      "metadata": {
        "id": "zQt2qVx69Msi",
        "colab_type": "text"
      },
      "source": [
        "## Question 5"
      ]
    },
    {
      "cell_type": "markdown",
      "metadata": {
        "id": "kVDhj21E9xlQ",
        "colab_type": "text"
      },
      "source": [
        "You are given a list of integers. Write a function and return a new list containing integers such that square of each integer is increased by 10.\n",
        "\n",
        "Hint:\n",
        "*   Input : One list of integers [x, y, z]\n",
        "*   Proces : x^2 + 10, y^2 + 10....\n",
        "*   Output : One list of integers"
      ]
    },
    {
      "cell_type": "code",
      "metadata": {
        "id": "vlKa30tOAR8N",
        "colab_type": "code",
        "colab": {}
      },
      "source": [
        "## Using function and for loop\n",
        "numbers = [2, 4, 3, 0, 1]\n",
        "number_to_add = 10\n",
        "\n",
        "def square_add(number, number_to_add):\n",
        "  return number*number + number_to_add\n",
        "\n",
        "def process(numbers, number_to_add):\n",
        "  new_numbers = []\n",
        "  for number in numbers:\n",
        "    new_number = square_add(number, number_to_add)\n",
        "    new_numbers.append(new_number)\n",
        "  return new_numbers\n",
        "  \n",
        "\n",
        "process(numbers, number_to_add)"
      ],
      "execution_count": null,
      "outputs": []
    },
    {
      "cell_type": "markdown",
      "metadata": {
        "id": "jmZoUjua_0Pv",
        "colab_type": "text"
      },
      "source": [
        "## Question 6"
      ]
    },
    {
      "cell_type": "markdown",
      "metadata": {
        "id": "K5ubLxju_4Rb",
        "colab_type": "text"
      },
      "source": [
        "You are given a list of integers. Write a for loop and use range to return a new list containing integers such that each integer is increased by 10.\n",
        "\n",
        "Hint:\n",
        "*   Input : One list of integers [x, y, z]\n",
        "*   Proces : x^2 + 10, y^2 + 10....\n",
        "*   Output : One list of integers"
      ]
    },
    {
      "cell_type": "code",
      "metadata": {
        "id": "8_gld0As_m8s",
        "colab_type": "code",
        "colab": {}
      },
      "source": [
        "## Using only for loop\n",
        "numbers = [2, 4, 3, 0, 1]\n",
        "new_numbers = []\n",
        "for index in range(len(numbers)):\n",
        "  new_number = numbers[index] + 10\n",
        "  new_numbers.append(new_number)\n",
        "\n",
        "print (new_numbers)"
      ],
      "execution_count": null,
      "outputs": []
    },
    {
      "cell_type": "markdown",
      "metadata": {
        "id": "DnwgLX7fGO8q",
        "colab_type": "text"
      },
      "source": [
        "## Ouestion 7"
      ]
    },
    {
      "cell_type": "markdown",
      "metadata": {
        "id": "GzpUfQuYC-09",
        "colab_type": "text"
      },
      "source": [
        "You are given two lists, one contains names of school friends and the other contains names of college friends. Write a for loop for combining both the lists and return a single list containg both school friends as well as college friends.\n",
        "\n",
        "Hint :\n",
        "*   Input : Two lists of strings\n",
        "*   Output : One list of strings"
      ]
    },
    {
      "cell_type": "code",
      "metadata": {
        "id": "mxTeZlwBC-Zd",
        "colab_type": "code",
        "colab": {}
      },
      "source": [
        "school_friends = ['Nidhi', 'Anjali', 'Alisha', 'Natasha', 'Prarthna']\n",
        "college_friends = ['Deepshikha', 'Farheen', 'Jyoti', 'Divya', 'Anup']\n",
        "all_friends = []\n",
        "for school_friend in school_friends:\n",
        "  for college_friend in college_friends:\n",
        "    all_friend = school_friend + college_friend\n",
        "    all_friends.append(all_friend)\n",
        "print(all_friends)   "
      ],
      "execution_count": null,
      "outputs": []
    },
    {
      "cell_type": "markdown",
      "metadata": {
        "id": "sn0ZZgKcFOyQ",
        "colab_type": "text"
      },
      "source": [
        "This is wrong. I used for loop incorrectly. The error clearly depicts that for loop iterates over college_friends 5 times for each school_friend."
      ]
    },
    {
      "cell_type": "code",
      "metadata": {
        "id": "MkagmpXnGw64",
        "colab_type": "code",
        "colab": {}
      },
      "source": [
        "## Correct way of doing this question\n",
        "school_friends = ['Nidhi', 'Anjali', 'Alisha', 'Natasha', 'Prarthna']\n",
        "college_friends = ['Deepshikha', 'Farheen', 'Jyoti', 'Divya', 'Anup']\n",
        "all_friends = []\n",
        "for school_friend in school_friends:\n",
        "  all_friends.append(school_friend)\n",
        "for college_friend in college_friends:\n",
        "  all_friends.append(college_friend)\n",
        "print(all_friends)"
      ],
      "execution_count": null,
      "outputs": []
    },
    {
      "cell_type": "markdown",
      "metadata": {
        "id": "k_wlSnqcHp4K",
        "colab_type": "text"
      },
      "source": [
        "## Question 8"
      ]
    },
    {
      "cell_type": "markdown",
      "metadata": {
        "id": "59QSq8rbG60x",
        "colab_type": "text"
      },
      "source": [
        "You are given two lists, one contains names of school friends and the other contains names of college friends. Use a for loop and range to iterate and return a single list containg both school friends as well as college friends.\n",
        "\n",
        "Hint :\n",
        "*   Input : Two lists of strings\n",
        "*   Output : One list of strings"
      ]
    },
    {
      "cell_type": "code",
      "metadata": {
        "id": "pqTBsO7_G7Rg",
        "colab_type": "code",
        "colab": {}
      },
      "source": [
        "school_friends = ['Nidhi', 'Anjali', 'Alisha', 'Natasha', 'Prarthna']\n",
        "college_friends = ['Deepshikha', 'Farheen', 'Jyoti', 'Divya', 'Anup']\n",
        "for index in range(len(college_friends)):\n",
        "    school_friends.append(college_friends[index])\n",
        "print(school_friends)"
      ],
      "execution_count": null,
      "outputs": []
    },
    {
      "cell_type": "markdown",
      "metadata": {
        "id": "gIq_IT83H7ig",
        "colab_type": "text"
      },
      "source": [
        "## Question 9"
      ]
    },
    {
      "cell_type": "markdown",
      "metadata": {
        "id": "9ryPCqUIIG3a",
        "colab_type": "text"
      },
      "source": [
        "You are given two lists, one contains names of school friends and the other contains names of college friends. Write a function and use for loop and range to iterate and return a single list containg both school friends as well as college friends.\n",
        "\n",
        "Hint :\n",
        "*   Input : Two lists of strings\n",
        "*   Output : One list of strings"
      ]
    },
    {
      "cell_type": "code",
      "metadata": {
        "id": "PP13Pjf1HlaQ",
        "colab_type": "code",
        "colab": {}
      },
      "source": [
        "school_friends = ['Nidhi', 'Anjali', 'Alisha', 'Natasha', 'Prarthna']\n",
        "college_friends = ['Deepshikha', 'Farheen', 'Jyoti', 'Divya', 'Anup']\n",
        "\n",
        "def all_friends(school_friends, college_friends):\n",
        "    for index in range(len(college_friends)):\n",
        "        school_friends.append(college_friends[index])\n",
        "    return school_friends\n",
        "\n",
        "all_friends(school_friends, college_friends)\n"
      ],
      "execution_count": null,
      "outputs": []
    },
    {
      "cell_type": "markdown",
      "metadata": {
        "id": "NOqeeu0hJ2nC",
        "colab_type": "text"
      },
      "source": [
        "## Question 10 "
      ]
    },
    {
      "cell_type": "markdown",
      "metadata": {
        "id": "UZBdhzFVIiFJ",
        "colab_type": "text"
      },
      "source": [
        "You are given two lists, each containing first names and last names, respectively. Write a for loop and return a new list containing first names and last names each separated with the spaces.\n",
        "\n",
        "Hint:\n",
        "*   Input : Two lists of strings\n",
        "*   Output : One list of strings"
      ]
    },
    {
      "cell_type": "code",
      "metadata": {
        "id": "UovwEO-tIj6O",
        "colab_type": "code",
        "colab": {}
      },
      "source": [
        "first_names = ['Nidhi', 'Anjali', 'Alisha', 'Natasha', 'Prarthna']\n",
        "last_names = ['Chugh', 'Sharma', 'Nassa', 'Batra', 'Goel']\n",
        "full_names = []\n",
        "for first_name, last_name in zip(first_names, last_names):\n",
        "  full_name = first_name + ' ' +  last_name\n",
        "  full_names.append(full_name)\n",
        "print(full_names)"
      ],
      "execution_count": null,
      "outputs": []
    },
    {
      "cell_type": "markdown",
      "metadata": {
        "id": "A2aovE63KCpm",
        "colab_type": "text"
      },
      "source": [
        "## Question 11"
      ]
    },
    {
      "cell_type": "markdown",
      "metadata": {
        "id": "aluZ6ydXKEyn",
        "colab_type": "text"
      },
      "source": [
        "You are given two lists, each containing first names and last names, respectively. Write a function and return a new list containing first names and last names each separated with the spaces.\n",
        "\n",
        "Hint:\n",
        "*   Input : Two lists of strings\n",
        "*   Output : One list of strings"
      ]
    },
    {
      "cell_type": "code",
      "metadata": {
        "id": "xMv2f9wlKDGS",
        "colab_type": "code",
        "colab": {}
      },
      "source": [
        "first_names = ['Nidhi', 'Anjali', 'Alisha', 'Natasha', 'Prarthna']\n",
        "last_names = ['Chugh', 'Sharma', 'Nassa', 'Batra', 'Goel']\n",
        "\n",
        "def make_full_name(first_name, last_name):\n",
        "  return first_name + ' ' + last_name\n",
        "\n",
        "def make_full_names(first_names, last_names):\n",
        "  full_names = []\n",
        "  for first_name, last_name in zip(first_names, last_names):\n",
        "    full_name = make_full_name(first_name, last_name)\n",
        "    full_names.append(full_name)\n",
        "  return full_names\n",
        "\n",
        "make_full_names(first_names, last_names)"
      ],
      "execution_count": null,
      "outputs": []
    },
    {
      "cell_type": "markdown",
      "metadata": {
        "id": "cvSLyJ94BFbW",
        "colab_type": "text"
      },
      "source": [
        "## Question 12"
      ]
    },
    {
      "cell_type": "markdown",
      "metadata": {
        "id": "klqgWOYtIlpA",
        "colab_type": "text"
      },
      "source": [
        "You are given a list containing first names and last names. Write a function to return a list and the new list should contain tuples with the names split.\n",
        "\n",
        "Hint:\n",
        "*   Input : One list of strings\n",
        "*   Output : One list of tuples Ex: [('kritika, chugh')]"
      ]
    },
    {
      "cell_type": "code",
      "metadata": {
        "id": "GBGHNYiyMPfs",
        "colab_type": "code",
        "colab": {}
      },
      "source": [
        "full_names = ['Nidhi Chugh', 'Anjali Sharma', 'Alisha Nassa', 'Natasha Batra', 'Prarthna Goel']\n",
        "\n",
        "def split_name(full_name):\n",
        "   name_split = full_name.split(' ')\n",
        "   return name_split[0], name_split[1]\n",
        "\n",
        "def split_names(full_names):\n",
        "  split_full_names = []\n",
        "  for full_name in full_names:\n",
        "    split_full_name = split_name(full_name)\n",
        "    split_full_names.append(split_full_name)\n",
        "  return split_full_names\n",
        "\n",
        "split_names(full_names)"
      ],
      "execution_count": null,
      "outputs": []
    },
    {
      "cell_type": "markdown",
      "metadata": {
        "id": "pETRSHLQhRTl",
        "colab_type": "text"
      },
      "source": [
        "## Question 13"
      ]
    },
    {
      "cell_type": "markdown",
      "metadata": {
        "id": "NORm8C9Hgwx7",
        "colab_type": "text"
      },
      "source": [
        "You are given a list containing first names and last names. Write a function to return a new list that contains tuples. Your new list must contain only two elements.\n",
        "\n",
        "Hint:\n",
        "Input : data type: string, ex : 'kritika chugh' </br>\n",
        "Output : tuple of strings, ex :  ('kritika', 'chugh') </br>\n",
        "split two strings in the ouput\n",
        "\n",
        "**Do it for one element first and then for all the elements:**\n",
        "name = 'kritika chugh'</br>\n",
        "def split_name(name):</br>\n",
        "  name_split = name.split(' ')</br>\n",
        "  return (name_split[0], name_split[1])</br>\n",
        "split_name(name)</br>\n"
      ]
    },
    {
      "cell_type": "code",
      "metadata": {
        "id": "cPXmN_KCgYuU",
        "colab_type": "code",
        "colab": {}
      },
      "source": [
        "full_names = ['Nidhi Chugh', 'Anjali Sharma', 'Alisha Nassa', 'Natasha Batra', 'Prarthna Goel']\n",
        "\n",
        "def split_name(full_name):\n",
        "   name_split = full_name.split(' ')\n",
        "   return name_split[0], name_split[1]\n",
        "\n",
        "def split_names(full_names):\n",
        "  split_full_names = []\n",
        "  for full_name in full_names:\n",
        "    split_full_name = split_name(full_name)\n",
        "    split_full_names.append(split_full_name)\n",
        "  return split_full_names\n",
        "\n",
        "split_names(full_names[0:3:2])"
      ],
      "execution_count": null,
      "outputs": []
    },
    {
      "cell_type": "markdown",
      "metadata": {
        "id": "P99Pm-J6BOO7",
        "colab_type": "text"
      },
      "source": [
        "## Question 14"
      ]
    },
    {
      "cell_type": "markdown",
      "metadata": {
        "id": "EzpgT2MzLkUv",
        "colab_type": "text"
      },
      "source": [
        "Write a code to return a list containing one lakh integers.</br>\n",
        "Hint:</br>\n",
        "Input : integers</br>\n",
        "Output: one list of integers"
      ]
    },
    {
      "cell_type": "code",
      "metadata": {
        "id": "gqQiC7JABVSV",
        "colab_type": "code",
        "colab": {}
      },
      "source": [
        "numbers = range(1, 100001)\n",
        "list_numbers = list(numbers)\n",
        "print(list_numbers)\n"
      ],
      "execution_count": null,
      "outputs": []
    },
    {
      "cell_type": "markdown",
      "metadata": {
        "id": "plMum2MndKqe",
        "colab_type": "text"
      },
      "source": [
        "## Question 15"
      ]
    },
    {
      "cell_type": "markdown",
      "metadata": {
        "id": "FGDBTtkgdNZG",
        "colab_type": "text"
      },
      "source": [
        "You have to create a set and then calculate the length of the set created.</br>\n",
        "\n",
        "Hint:\n",
        "*   Input : One Set\n",
        "*   Output : Integer\n",
        "\n",
        "\n"
      ]
    },
    {
      "cell_type": "code",
      "metadata": {
        "id": "kEhO-8KWttAx",
        "colab_type": "code",
        "colab": {}
      },
      "source": [
        "## Set of numbers\n",
        "numbers = {2, 4, 3, 0, 1}\n",
        "length = len(numbers)\n",
        "print(length)"
      ],
      "execution_count": null,
      "outputs": []
    },
    {
      "cell_type": "code",
      "metadata": {
        "id": "ciBwxmIpdpT3",
        "colab_type": "code",
        "colab": {}
      },
      "source": [
        "## Set of strings\n",
        "friend_names = {'Nidhi Chugh', 'Anjali Sharma', 'Alisha Nassa', 'Natasha Batra', 'Prarthna Goel'}\n",
        "length = len(friend_names)\n",
        "print(length)"
      ],
      "execution_count": null,
      "outputs": []
    },
    {
      "cell_type": "markdown",
      "metadata": {
        "id": "EPvkuqb6n6lS",
        "colab_type": "text"
      },
      "source": [
        "## Question 16"
      ]
    },
    {
      "cell_type": "markdown",
      "metadata": {
        "id": "hggPT1_GoEmt",
        "colab_type": "text"
      },
      "source": [
        "You are given a set of integers and you have to write a function each for calculating the square of integers and a cube of integers, respectively. After then, you have to write a function for adding the square and cube of the integers and you have to return the results in a new set.\n",
        "Hint :    \n",
        "1.  Input : One set of integers Ex: [x, y, z]\n",
        "2.  Process: x^2 + x^3\n",
        "3.  Output: One set of integers        "
      ]
    },
    {
      "cell_type": "code",
      "metadata": {
        "colab_type": "code",
        "id": "PI9AOmuXtc2K",
        "colab": {}
      },
      "source": [
        "# First way is to declare a list of integers before writing the function\n",
        "numbers = {2, 4, 3, 0, 1}\n",
        "\n",
        "def square(number):\n",
        "  return number**2 \n",
        "\n",
        "def cube(number):\n",
        "  return number**3\n",
        "\n",
        "def square_add_cubes(numbers):\n",
        "  new_numbers = set()\n",
        "  for number in numbers:\n",
        "    new_numbers.update(square(number)+cube(number))\n",
        "  return new_numbers\n",
        "  \n",
        "\n",
        "square_add_cubes(numbers)\n"
      ],
      "execution_count": null,
      "outputs": []
    },
    {
      "cell_type": "markdown",
      "metadata": {
        "id": "huizGd69-hye",
        "colab_type": "text"
      },
      "source": [
        "## Question 17"
      ]
    },
    {
      "cell_type": "markdown",
      "metadata": {
        "id": "IwgHUPaf-lXy",
        "colab_type": "text"
      },
      "source": [
        "Input data type: List of integers. For example: [2, 4, 3, 0, 1]</br>\n",
        "Process: Use for loop for iterating over the list in reverse order.</br>\n",
        "Output: List of integers in reverse order. For example: [1, 0, 3, 4, 2]</br>\n"
      ]
    },
    {
      "cell_type": "code",
      "metadata": {
        "id": "X99ZZdHc_3Cd",
        "colab_type": "code",
        "colab": {}
      },
      "source": [
        "def reversing_numbers(numbers):\n",
        "  return numbers[::-1]\n",
        "\n",
        "reversing_numbers([2, 4, 3, 0, 1])"
      ],
      "execution_count": null,
      "outputs": []
    },
    {
      "cell_type": "code",
      "metadata": {
        "id": "b7PBvHjtBa0I",
        "colab_type": "code",
        "colab": {}
      },
      "source": [
        "numbers = [2, 4, 3, 0, 1]\n",
        "mutated_numbers = []\n",
        "for number in reversed(numbers):\n",
        "  mutated_numbers.append(number)\n",
        "print(mutated_numbers)\n",
        "\n"
      ],
      "execution_count": null,
      "outputs": []
    },
    {
      "cell_type": "code",
      "metadata": {
        "id": "vxbWnJrII_P3",
        "colab_type": "code",
        "colab": {}
      },
      "source": [
        "a = 2\n",
        "b = 4\n",
        "a,b = b,a\n",
        "print(a)\n",
        "print(b)"
      ],
      "execution_count": null,
      "outputs": []
    },
    {
      "cell_type": "code",
      "metadata": {
        "id": "zD-ZlD4IcS97",
        "colab_type": "code",
        "colab": {}
      },
      "source": [
        "a, b, c, d, e = 2, 4, 3, 0, 1\n",
        "a, b, c, d, e = e, d, c, b, a\n",
        "print(a)\n",
        "print(b)\n",
        "print(c)\n",
        "print(d)\n",
        "print(e)"
      ],
      "execution_count": null,
      "outputs": []
    },
    {
      "cell_type": "code",
      "metadata": {
        "id": "keDA5XxKfF7B",
        "colab_type": "code",
        "colab": {}
      },
      "source": [
        "a = 2\n",
        "b = 4\n",
        "copy_a = 2\n",
        "a = b\n",
        "b = copy_a\n",
        "print(a,b)"
      ],
      "execution_count": null,
      "outputs": []
    },
    {
      "cell_type": "code",
      "metadata": {
        "id": "7vmdC3Drzpjd",
        "colab_type": "code",
        "colab": {}
      },
      "source": [
        "numbers = [2, 4]\n",
        "copy_first_no = numbers[0]\n",
        "numbers[0] = numbers[1]\n",
        "numbers[1] = copy_first_no\n",
        "print(numbers)\n"
      ],
      "execution_count": null,
      "outputs": []
    },
    {
      "cell_type": "code",
      "metadata": {
        "id": "UR4dzoTb0G1c",
        "colab_type": "code",
        "colab": {}
      },
      "source": [
        "numbers = [2, 4, 3, 0, 1]\n",
        "def reverse_numbers(numbers):\n",
        "    for index in range(int(len(numbers)/2)):\n",
        "        copy_number = numbers[index]\n",
        "        numbers[index] = numbers[len(numbers) -1 - index]\n",
        "        numbers[len(numbers) -1 - index] = copy_number\n",
        "    return numbers\n",
        "\n",
        "reverse_numbers(numbers)\n"
      ],
      "execution_count": null,
      "outputs": []
    },
    {
      "cell_type": "code",
      "metadata": {
        "id": "3GIprdGn6Mb8",
        "colab_type": "code",
        "colab": {}
      },
      "source": [
        "numbers = [2, 4, 3, 0, 1]\n",
        "start = 0\n",
        "end = len(numbers)-1\n",
        "def reverse_numbers(numbers, start, end):\n",
        "  for number in numbers:\n",
        "      while start < end:\n",
        "        copy_number = numbers[start]\n",
        "        numbers[start] = numbers[end]\n",
        "        numbers[end] = copy_number\n",
        "      return numbers\n",
        "\n",
        "reverse_numbers(numbers, start, end)\n",
        "\n"
      ],
      "execution_count": null,
      "outputs": []
    },
    {
      "cell_type": "code",
      "metadata": {
        "id": "1LbXsTjO7dWY",
        "colab_type": "code",
        "colab": {}
      },
      "source": [
        "a = 2\n",
        "b = 4\n",
        "def swap_numbers(ref a, b):\n",
        "    copy_a = 2\n",
        "    a = b\n",
        "    b = copy_a\n",
        "\n",
        "swap_numbers(a, b)\n",
        "print(a,b)\n"
      ],
      "execution_count": null,
      "outputs": []
    }
  ]
}